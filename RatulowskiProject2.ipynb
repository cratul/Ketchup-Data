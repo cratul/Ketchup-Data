{
  "nbformat": 4,
  "nbformat_minor": 0,
  "metadata": {
    "colab": {
      "name": "RatulowskiProject2.ipynb",
      "provenance": [],
      "collapsed_sections": [],
      "authorship_tag": "ABX9TyOyZgHGL+3hfWUAWtCV1Aa2",
      "include_colab_link": true
    },
    "kernelspec": {
      "display_name": "Python 3",
      "name": "python3"
    },
    "language_info": {
      "name": "python"
    }
  },
  "cells": [
    {
      "cell_type": "markdown",
      "metadata": {
        "id": "view-in-github",
        "colab_type": "text"
      },
      "source": [
        "<a href=\"https://colab.research.google.com/github/cratul/Ketchup-Data/blob/main/RatulowskiProject2.ipynb\" target=\"_parent\"><img src=\"https://colab.research.google.com/assets/colab-badge.svg\" alt=\"Open In Colab\"/></a>"
      ]
    },
    {
      "cell_type": "markdown",
      "metadata": {
        "id": "b17gigjpDYCf"
      },
      "source": [
        "Name: Celine Ratulowski"
      ]
    },
    {
      "cell_type": "markdown",
      "metadata": {
        "id": "BfxZUYwhDdBL"
      },
      "source": [
        "I attempted to get all 16 out of 20 points for this project. This is because I only used accuracy as my metric used to evaluate my data, and I had difficulties making good visualizations."
      ]
    },
    {
      "cell_type": "markdown",
      "metadata": {
        "id": "KfhuhCpzBJTM"
      },
      "source": [
        "1.**Problem:**The problem that I am trying to solve in this project is by looking at the reviews and create a model that will make an accurate prediction. The data consists of two columns, the review and the sentiment. A possible use of this kind of macine learning can be used for many classifier problems.\n",
        "  \n",
        "2.**Explore the Data:** From the code below, we can see that the data has 50000 samples and 2 categories. RWe can also see that the median number of words per sample is 970.0, and we have a bunch of other values that describe the data.\n",
        "  \n",
        "3.**Data Preparation:** In order to prepare that data I cleaned the reviews by making them all lowercase and removed any stop words.\n",
        "  \n",
        "4.**Metrics:** The metric that I used to evaluate my models is accuracy.\n",
        "  \n",
        "5.**Model Planning and Execution:** The learning algorithms that I used are perceptron, PCA, MLP, and SVC. The PCA changed number of components to 20. For the MLP i changed the parameters to hidden layer size to 100 and max iterations to 500.\n",
        "  \n",
        "6.**Bumps in the Road:** A challenge I encountered was making good vizualizations for my data. I tried to overcome this by looking at our previous class' lectures and assignments to look at examples. \n",
        "  \n",
        "7.**Results:** After all the models were done, I found that SVC was the mest model because it had the highest accuracy of 83.07%. The MLP and Perceptron ended up with the same accuracy of 78.41%, which is alos pretty high. From the confusuin matric you can see that 1888 sentiments were predicted incorrectly, while 8112 were predicted correctly. \n",
        "  \n",
        "8.**Conclusions:** Overall I would say that my SVC model turned out the best, but I would say it deoends on the data and what is trying to be solved when determining which model to use for other problems. Some of my other models could have also been improved if I played around more with tuning parameters. None of the models I created were bad in this case, and I feel like that is the case for most problems. "
      ]
    },
    {
      "cell_type": "code",
      "metadata": {
        "colab": {
          "base_uri": "https://localhost:8080/",
          "height": 221
        },
        "id": "SLgqA6NYBD1N",
        "outputId": "07264fdf-0a87-4cd4-98c4-1902bbba9c01"
      },
      "source": [
        "from google.colab import drive\n",
        "import pandas\n",
        "drive.mount('/content/drive')\n",
        "data = pandas.read_csv('/content/drive/MyDrive/Machine Learning/IMDB Dataset.csv')\n",
        "data.head()"
      ],
      "execution_count": null,
      "outputs": [
        {
          "output_type": "stream",
          "text": [
            "Mounted at /content/drive\n"
          ],
          "name": "stdout"
        },
        {
          "output_type": "execute_result",
          "data": {
            "text/html": [
              "<div>\n",
              "<style scoped>\n",
              "    .dataframe tbody tr th:only-of-type {\n",
              "        vertical-align: middle;\n",
              "    }\n",
              "\n",
              "    .dataframe tbody tr th {\n",
              "        vertical-align: top;\n",
              "    }\n",
              "\n",
              "    .dataframe thead th {\n",
              "        text-align: right;\n",
              "    }\n",
              "</style>\n",
              "<table border=\"1\" class=\"dataframe\">\n",
              "  <thead>\n",
              "    <tr style=\"text-align: right;\">\n",
              "      <th></th>\n",
              "      <th>review</th>\n",
              "      <th>sentiment</th>\n",
              "    </tr>\n",
              "  </thead>\n",
              "  <tbody>\n",
              "    <tr>\n",
              "      <th>0</th>\n",
              "      <td>One of the other reviewers has mentioned that ...</td>\n",
              "      <td>positive</td>\n",
              "    </tr>\n",
              "    <tr>\n",
              "      <th>1</th>\n",
              "      <td>A wonderful little production. &lt;br /&gt;&lt;br /&gt;The...</td>\n",
              "      <td>positive</td>\n",
              "    </tr>\n",
              "    <tr>\n",
              "      <th>2</th>\n",
              "      <td>I thought this was a wonderful way to spend ti...</td>\n",
              "      <td>positive</td>\n",
              "    </tr>\n",
              "    <tr>\n",
              "      <th>3</th>\n",
              "      <td>Basically there's a family where a little boy ...</td>\n",
              "      <td>negative</td>\n",
              "    </tr>\n",
              "    <tr>\n",
              "      <th>4</th>\n",
              "      <td>Petter Mattei's \"Love in the Time of Money\" is...</td>\n",
              "      <td>positive</td>\n",
              "    </tr>\n",
              "  </tbody>\n",
              "</table>\n",
              "</div>"
            ],
            "text/plain": [
              "                                              review sentiment\n",
              "0  One of the other reviewers has mentioned that ...  positive\n",
              "1  A wonderful little production. <br /><br />The...  positive\n",
              "2  I thought this was a wonderful way to spend ti...  positive\n",
              "3  Basically there's a family where a little boy ...  negative\n",
              "4  Petter Mattei's \"Love in the Time of Money\" is...  positive"
            ]
          },
          "metadata": {
            "tags": []
          },
          "execution_count": 3
        }
      ]
    },
    {
      "cell_type": "markdown",
      "metadata": {
        "id": "DU3CEidRBIit"
      },
      "source": [
        "\n",
        "**Data Exploration:**  \n",
        "Number of samples:  50000   \n",
        "Number of classes of the target variable: 2   \n",
        "Number of words per sample:  950   "
      ]
    },
    {
      "cell_type": "code",
      "metadata": {
        "colab": {
          "base_uri": "https://localhost:8080/",
          "height": 469
        },
        "id": "p7o1-hrEH7KZ",
        "outputId": "a0f816bb-e3c2-417d-c80e-44cd824b668e"
      },
      "source": [
        "## Use cells here to explore the data:\n",
        "print(data.shape)\n",
        "print(data['review'].apply(len).median())\n",
        "print(data['review'].apply(len).hist())\n",
        "print(data['review'].apply(len).describe())"
      ],
      "execution_count": null,
      "outputs": [
        {
          "output_type": "stream",
          "text": [
            "(50000, 2)\n",
            "970.0\n",
            "AxesSubplot(0.125,0.125;0.775x0.755)\n",
            "count    50000.000000\n",
            "mean      1309.431020\n",
            "std        989.728014\n",
            "min         32.000000\n",
            "25%        699.000000\n",
            "50%        970.000000\n",
            "75%       1590.250000\n",
            "max      13704.000000\n",
            "Name: review, dtype: float64\n"
          ],
          "name": "stdout"
        },
        {
          "output_type": "display_data",
          "data": {
            "image/png": "[encoded data removed]",
            "text/plain": [
              "<Figure size 432x288 with 1 Axes>"
            ]
          },
          "metadata": {
            "tags": [],
            "needs_background": "light"
          }
        }
      ]
    },
    {
      "cell_type": "code",
      "metadata": {
        "colab": {
          "base_uri": "https://localhost:8080/",
          "height": 282
        },
        "id": "h5sNePcgUgEu",
        "outputId": "cdc979e9-d4d0-41c8-9bbb-d1211abbad32"
      },
      "source": [
        "print(data['sentiment'].hist())"
      ],
      "execution_count": null,
      "outputs": [
        {
          "output_type": "stream",
          "text": [
            "AxesSubplot(0.125,0.125;0.775x0.755)\n"
          ],
          "name": "stdout"
        },
        {
          "output_type": "display_data",
          "data": {
            "image/png": "[encoded data removed]",
            "text/plain": [
              "<Figure size 432x288 with 1 Axes>"
            ]
          },
          "metadata": {
            "tags": [],
            "needs_background": "light"
          }
        }
      ]
    },
    {
      "cell_type": "markdown",
      "metadata": {
        "id": "BkEavDDsU7Zb"
      },
      "source": [
        ""
      ]
    },
    {
      "cell_type": "markdown",
      "metadata": {
        "id": "DInEOUQRKwhM"
      },
      "source": [
        "\n",
        "**Data Preperation:**   \n",
        "I'm providing you with code that cleans the reviews by making it all lowercase letters and removing stop words. The three cells below do this for you. I still want you to explain what you did with the data here."
      ]
    },
    {
      "cell_type": "code",
      "metadata": {
        "colab": {
          "base_uri": "https://localhost:8080/"
        },
        "id": "KxUE1WNzKr-g",
        "outputId": "c31203ea-8a94-440b-e002-7807af574937"
      },
      "source": [
        "from bs4 import BeautifulSoup\n",
        "import re\n",
        "import nltk\n",
        "#only do next line once\n",
        "nltk.download() #in Corpora tab, download stopwords\n",
        "from nltk.corpus import stopwords\n",
        "from sklearn.model_selection import train_test_split\n",
        "#The NLTK downloader will open, you need to select (d) for Download, and then 'stopwords'then (q) to quit"
      ],
      "execution_count": null,
      "outputs": [
        {
          "output_type": "stream",
          "text": [
            "NLTK Downloader\n",
            "---------------------------------------------------------------------------\n",
            "    d) Download   l) List    u) Update   c) Config   h) Help   q) Quit\n",
            "---------------------------------------------------------------------------\n",
            "Downloader> dd\n",
            "Command 'dd' unrecognized\n",
            "\n",
            "---------------------------------------------------------------------------\n",
            "    d) Download   l) List    u) Update   c) Config   h) Help   q) Quit\n",
            "---------------------------------------------------------------------------\n",
            "Downloader> d\n",
            "\n",
            "Download which package (l=list; x=cancel)?\n",
            "  Identifier> stopwords\n",
            "    Downloading package stopwords to /root/nltk_data...\n",
            "      Unzipping corpora/stopwords.zip.\n",
            "\n",
            "---------------------------------------------------------------------------\n",
            "    d) Download   l) List    u) Update   c) Config   h) Help   q) Quit\n",
            "---------------------------------------------------------------------------\n",
            "Downloader> q\n"
          ],
          "name": "stdout"
        }
      ]
    },
    {
      "cell_type": "code",
      "metadata": {
        "id": "J0SLyuymLDVB"
      },
      "source": [
        "\n",
        "#This is a function that takes in a review, makes sure it is only lower case letters and removes stopwords.\n",
        "#It returns the cleaned review text.\n",
        "def clean_review(review):\n",
        "    #input is a string review\n",
        "    #return is review cleaned of all punctuation, lowercase, and removed nltk stopwords\n",
        "    letters_only = re.sub(\"[^a-zA-Z]\",\" \",review)\n",
        "    lower_case = letters_only.lower()\n",
        "    words = lower_case.split()\n",
        "    for stop_word in stopwords.words(\"english\"):\n",
        "        while stop_word in words:\n",
        "            words.remove(stop_word)\n",
        "    cleaned = \" \".join(words)\n",
        "    return cleaned"
      ],
      "execution_count": null,
      "outputs": []
    },
    {
      "cell_type": "code",
      "metadata": {
        "id": "GQyBoJpfLD9u"
      },
      "source": [
        "#process the data\n",
        "cleaned_text = []\n",
        "for i in range(len(data)):\n",
        "    cleaned_text.append(clean_review(data[\"review\"][i]))"
      ],
      "execution_count": null,
      "outputs": []
    },
    {
      "cell_type": "code",
      "metadata": {
        "colab": {
          "base_uri": "https://localhost:8080/"
        },
        "id": "X9Nys5G_LZS6",
        "outputId": "d9cb2ffe-1a6b-4493-e8f5-81b4f4d32c97"
      },
      "source": [
        "cleaned_text[:5]"
      ],
      "execution_count": null,
      "outputs": [
        {
          "output_type": "execute_result",
          "data": {
            "text/plain": [
              "['one reviewers mentioned watching oz episode hooked right exactly happened br br first thing struck oz brutality unflinching scenes violence set right word go trust show faint hearted timid show pulls punches regards drugs sex violence hardcore classic use word br br called oz nickname given oswald maximum security state penitentary focuses mainly emerald city experimental section prison cells glass fronts face inwards privacy high agenda em city home many aryans muslims gangstas latinos christians italians irish scuffles death stares dodgy dealings shady agreements never far away br br would say main appeal show due fact goes shows dare forget pretty pictures painted mainstream audiences forget charm forget romance oz mess around first episode ever saw struck nasty surreal say ready watched developed taste oz got accustomed high levels graphic violence violence injustice crooked guards sold nickel inmates kill order get away well mannered middle class inmates turned prison bitches due lack street skills prison experience watching oz may become comfortable uncomfortable viewing thats get touch darker side',\n",
              " 'wonderful little production br br filming technique unassuming old time bbc fashion gives comforting sometimes discomforting sense realism entire piece br br actors extremely well chosen michael sheen got polari voices pat truly see seamless editing guided references williams diary entries well worth watching terrificly written performed piece masterful production one great master comedy life br br realism really comes home little things fantasy guard rather use traditional dream techniques remains solid disappears plays knowledge senses particularly scenes concerning orton halliwell sets particularly flat halliwell murals decorating every surface terribly well done',\n",
              " 'thought wonderful way spend time hot summer weekend sitting air conditioned theater watching light hearted comedy plot simplistic dialogue witty characters likable even well bread suspected serial killer may disappointed realize match point risk addiction thought proof woody allen still fully control style many us grown love br br laughed one woody comedies years dare say decade never impressed scarlet johanson managed tone sexy image jumped right average spirited young woman br br may crown jewel career wittier devil wears prada interesting superman great comedy go see friends',\n",
              " 'basically family little boy jake thinks zombie closet parents fighting time br br movie slower soap opera suddenly jake decides become rambo kill zombie br br ok first going make film must decide thriller drama drama movie watchable parents divorcing arguing like real life jake closet totally ruins film expected see boogeyman similar movie instead watched drama meaningless thriller spots br br well playing parents descent dialogs shots jake ignore',\n",
              " 'petter mattei love time money visually stunning film watch mr mattei offers us vivid portrait human relations movie seems telling us money power success people different situations encounter br br variation arthur schnitzler play theme director transfers action present time new york different characters meet connect one connected one way another next person one seems know previous point contact stylishly film sophisticated luxurious look taken see people live world live habitat br br thing one gets souls picture different stages loneliness one inhabits big city exactly best place human relations find sincere fulfillment one discerns case people encounter br br acting good mr mattei direction steve buscemi rosario dawson carol kane michael imperioli adrian grenier rest talented cast make characters come alive br br wish mr mattei good luck await anxiously next work']"
            ]
          },
          "metadata": {
            "tags": []
          },
          "execution_count": 8
        }
      ]
    },
    {
      "cell_type": "code",
      "metadata": {
        "id": "rI1e9g3eLdEp"
      },
      "source": [
        "#establish training and testing dataset\n",
        "train_data, test_data, train_sln, test_sln = \\\n",
        "    train_test_split(cleaned_text, data['sentiment'], test_size = 0.2, random_state=0)"
      ],
      "execution_count": null,
      "outputs": []
    },
    {
      "cell_type": "markdown",
      "metadata": {
        "id": "YX414zzgLgDn"
      },
      "source": [
        "**Vectorizing The Data:**   \n",
        "**CountVectorizer:** Convert a collection of text documents to a matrix of token counts"
      ]
    },
    {
      "cell_type": "code",
      "metadata": {
        "id": "mtLibYRwLq2e"
      },
      "source": [
        "from sklearn.feature_extraction.text import CountVectorizer \n",
        "\n",
        "#Bag of Words with 5000 most common words\n",
        "vectorizer = CountVectorizer(analyzer='word', max_features = 500)\n",
        "#find the right 5000 words\n",
        "vectorizer.fit(train_data)\n",
        "\n",
        "#use the vectorizer to transform review strings into word count vectors \n",
        "train_data_vectors = vectorizer.transform(train_data).toarray()\n",
        "test_data_vectors = vectorizer.transform(test_data).toarray()"
      ],
      "execution_count": null,
      "outputs": []
    },
    {
      "cell_type": "code",
      "metadata": {
        "id": "jnHLQ8bBL4dY",
        "colab": {
          "base_uri": "https://localhost:8080/"
        },
        "outputId": "7050363d-ccd3-4e85-805c-e34b1c792cfb"
      },
      "source": [
        "## Now use train_data_vectors and test_data_vectors to train/test/tune your sklearn models.\n",
        "from sklearn.decomposition import PCA\n",
        "from sklearn.metrics import accuracy_score\n",
        "extractor = PCA(n_components=20)\n",
        "extractor.fit(train_data_vectors)\n",
        "train_transformed =extractor.transform(train_data_vectors)\n",
        "test_transformed = extractor.transform(test_data_vectors)\n",
        "\n",
        "print('this is the variance/importance of each component')\n",
        "print(extractor.explained_variance_ratio_)"
      ],
      "execution_count": null,
      "outputs": [
        {
          "output_type": "stream",
          "text": [
            "this is the variance/importance of each component\n",
            "[0.27172574 0.05478849 0.04816953 0.01999903 0.01204038 0.00956216\n",
            " 0.00875099 0.00783335 0.00724965 0.00632848 0.00624452 0.00612844\n",
            " 0.00591654 0.00577436 0.00544275 0.00521536 0.00506931 0.00492791\n",
            " 0.00464506 0.00460257]\n"
          ],
          "name": "stdout"
        }
      ]
    },
    {
      "cell_type": "code",
      "metadata": {
        "id": "sPGYjeDyNcB5"
      },
      "source": [
        "import numpy\n",
        "from sklearn.model_selection import train_test_split\n",
        "from sklearn.svm import SVC\n",
        "from sklearn import metrics\n",
        "import matplotlib.pyplot as plt\n",
        "from itertools import product\n",
        "%matplotlib inline"
      ],
      "execution_count": null,
      "outputs": []
    },
    {
      "cell_type": "code",
      "metadata": {
        "colab": {
          "base_uri": "https://localhost:8080/",
          "height": 269
        },
        "id": "v5e718QAQ6qB",
        "outputId": "3f144ee7-1d7b-4699-b431-bd4d157a46f6"
      },
      "source": [
        "#visualizing the new axes\n",
        "#PCA gives it back as numpy array\n",
        "tdf = pandas.DataFrame(train_transformed)\n",
        "#next line: probably not the best way\n",
        "tdf['sentiment'] = pandas.Series(list(train_sln)) \n",
        "\n",
        "\n",
        "setosa_series = tdf[ tdf['sentiment'] == 'positive' ]\n",
        "virginica_series = tdf[ tdf['sentiment'] == 'negative' ]\n",
        "\n",
        "plt.plot(setosa_series[0],setosa_series[1],'ro',label='positve')\n",
        "plt.plot(virginica_series[0],virginica_series[1],'bs',label='negative')\n",
        "plt.legend(loc='upper center')\n",
        "plt.show()"
      ],
      "execution_count": null,
      "outputs": [
        {
          "output_type": "display_data",
          "data": {
            "image/png": "[encoded data removed]",
            "text/plain": [
              "<Figure size 432x288 with 1 Axes>"
            ]
          },
          "metadata": {
            "tags": [],
            "needs_background": "light"
          }
        }
      ]
    },
    {
      "cell_type": "code",
      "metadata": {
        "colab": {
          "base_uri": "https://localhost:8080/"
        },
        "id": "cNPJmgzfN8J4",
        "outputId": "241ad442-e210-49ea-ac82-ca9ce0ad0b2b"
      },
      "source": [
        "from sklearn.linear_model import Perceptron\n",
        "from sklearn.metrics import accuracy_score\n",
        "perc= Perceptron()\n",
        "perc.fit(train_data_vectors, train_sln)\n",
        "perc_predictions = perc.predict(test_data_vectors)\n",
        "print(\"accuracy: \", metrics.accuracy_score(test_sln, perc_predictions))"
      ],
      "execution_count": null,
      "outputs": [
        {
          "output_type": "stream",
          "text": [
            "accuracy:  0.7841\n"
          ],
          "name": "stdout"
        }
      ]
    },
    {
      "cell_type": "code",
      "metadata": {
        "id": "jcbdROY2LeNA"
      },
      "source": [
        "#function for pretty conf matrix\n",
        "import seaborn as sns\n",
        "\n",
        "pretty = True\n",
        "#This function will print a confusion matrix\n",
        "# It takes the test_slns, the preds, and a boolean variable pretty, which when True will print a prettier confusion matrix and if it's false it will print a standard conf matrix.\n",
        "def print_confusion_matrix(test_sln, preds, pretty):\n",
        "  cf_matrix = confusion_matrix(test_sln, preds,)\n",
        "  if pretty:\n",
        "    sns.heatmap(cf_matrix, annot=True,  xticklabels=['predictPositive', 'PredictNegative'], yticklabels=['truePos', 'trueNeg']) #p for predicted, t for true\n",
        "  else:\n",
        "    print(cf_matrix)"
      ],
      "execution_count": null,
      "outputs": []
    },
    {
      "cell_type": "code",
      "metadata": {
        "colab": {
          "base_uri": "https://localhost:8080/",
          "height": 333
        },
        "id": "p1PhBIs7Ovj2",
        "outputId": "df034b9f-2533-42fd-b4f7-d725829acaf3"
      },
      "source": [
        "#set up MLP\n",
        "from sklearn.neural_network import MLPClassifier\n",
        "from sklearn.metrics import confusion_matrix\n",
        "mlp= MLPClassifier(random_state=0, hidden_layer_sizes=(100,), max_iter=500)\n",
        "mlp.fit(train_data_vectors, train_sln)\n",
        "predictions = mlp.predict(test_data_vectors)\n",
        "print(\"accuracy: \", metrics.accuracy_score(test_sln, perc_predictions))\n",
        "\n",
        "print_confusion_matrix(test_sln, predictions, True)\n",
        "\n",
        "vals = data[\"sentiment\"].unique() ## possible classification values (species)\n",
        "conf_mat = metrics.confusion_matrix(test_sln, predictions, labels=vals)\n",
        "print(pandas.DataFrame(conf_mat, index = \"True \" + vals, columns = \"Pred \" + vals))"
      ],
      "execution_count": null,
      "outputs": [
        {
          "output_type": "stream",
          "text": [
            "accuracy:  0.7841\n",
            "               Pred positive  Pred negative\n",
            "True positive           4051            914\n",
            "True negative            974           4061\n"
          ],
          "name": "stdout"
        },
        {
          "output_type": "display_data",
          "data": {
            "image/png": "[encoded data removed]",
            "text/plain": [
              "<Figure size 432x288 with 2 Axes>"
            ]
          },
          "metadata": {
            "tags": [],
            "needs_background": "light"
          }
        }
      ]
    },
    {
      "cell_type": "code",
      "metadata": {
        "colab": {
          "base_uri": "https://localhost:8080/"
        },
        "id": "5avHR4DmP9au",
        "outputId": "b4940937-4435-42a4-86f4-3953e4fd0121"
      },
      "source": [
        "clf_SVC = SVC()\n",
        "clf_SVC.fit(train_data_vectors, train_sln)\n",
        "predictions=clf_SVC.predict(test_data_vectors)\n",
        "print(\"accuracy: \", metrics.accuracy_score(test_sln, predictions))"
      ],
      "execution_count": null,
      "outputs": [
        {
          "output_type": "stream",
          "text": [
            "accuracy:  0.8307\n"
          ],
          "name": "stdout"
        }
      ]
    }
  ]
}